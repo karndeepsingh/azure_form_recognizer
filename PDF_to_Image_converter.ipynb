{
 "cells": [
  {
   "cell_type": "markdown",
   "id": "b1ba7f90-3028-4e9a-8727-2a46216837c4",
   "metadata": {},
   "source": [
    "## PDF TO IMAGE CONVERSION"
   ]
  },
  {
   "cell_type": "code",
   "execution_count": 2,
   "id": "36ee7dd7",
   "metadata": {},
   "outputs": [
    {
     "name": "stdout",
     "output_type": "stream",
     "text": [
      "Collecting pdf2image\n",
      "  Downloading pdf2image-1.16.0-py3-none-any.whl (10 kB)\n",
      "Requirement already satisfied: pillow in c:\\programdata\\anaconda3\\lib\\site-packages (from pdf2image) (8.2.0)\n",
      "Installing collected packages: pdf2image\n",
      "Successfully installed pdf2image-1.16.0\n"
     ]
    }
   ],
   "source": [
    "!pip install pdf2image"
   ]
  },
  {
   "cell_type": "code",
   "execution_count": 1,
   "id": "26765b27-086d-462c-abbe-bba6cbb76032",
   "metadata": {},
   "outputs": [],
   "source": [
    "from pdf2image import convert_from_path\n",
    "import glob\n",
    "import os"
   ]
  },
  {
   "cell_type": "code",
   "execution_count": 20,
   "id": "dbb8f1fb-ef8f-4f87-8f7a-6f5f1a92c5e2",
   "metadata": {},
   "outputs": [
    {
     "name": "stdout",
     "output_type": "stream",
     "text": [
      "[Errno 2] No such file or directory: 'efax'\n",
      "/media/gsatis/ssdnvme/karndeep/Parties_Project/Object_Detection/yolov5\n"
     ]
    }
   ],
   "source": [
    "%cd efax"
   ]
  },
  {
   "cell_type": "code",
   "execution_count": 2,
   "id": "3a7b012b-d3fe-4b45-9d44-ef792798be47",
   "metadata": {},
   "outputs": [
    {
     "name": "stdout",
     "output_type": "stream",
     "text": [
      "C:\\Users\\6130674\\OneDrive - Fidelity National Financial\\Documents\\New_Project\\New_Batch_Samples_8th_March\n"
     ]
    }
   ],
   "source": [
    "%cd C:\\Users\\6130674\\OneDrive - Fidelity National Financial\\Documents\\New_Project\\New_Batch_Samples_8th_March"
   ]
  },
  {
   "cell_type": "code",
   "execution_count": 3,
   "id": "dd0efd54-14ff-4d98-881c-8f3128d5a561",
   "metadata": {},
   "outputs": [
    {
     "data": {
      "text/plain": [
       "['WF 1998 4_4.pdf',\n",
       " 'WF 1998 4_6.pdf',\n",
       " 'WF 5991 3_31.pdf',\n",
       " 'WF 6465 4_6.pdf',\n",
       " 'WF 7591 4_6.pdf',\n",
       " 'WF 9841 4_ 6.pdf',\n",
       " 'WF 9841 4_6.pdf',\n",
       " 'WF-0155 04-07.pdf',\n",
       " 'WF-0518 04-04.pdf',\n",
       " 'WF-1978 04-05.pdf',\n",
       " 'WF-1998 04-05.pdf',\n",
       " 'WF-1998 04_05.pdf',\n",
       " 'WF-2064 04-07.pdf',\n",
       " 'WF-2121 04-06.pdf',\n",
       " 'WF-2446 03-31.pdf',\n",
       " 'WF-2455 04-07.pdf',\n",
       " 'WF-2483 04_05.pdf',\n",
       " 'WF-2688 04-07.pdf',\n",
       " 'WF-2857 04-05.pdf',\n",
       " 'WF-3271 04-06.pdf',\n",
       " 'WF-3376 04-04.pdf',\n",
       " 'WF-3875 04-04.pdf',\n",
       " 'WF-4708 04-04.pdf',\n",
       " 'WF-4981 04-07.pdf',\n",
       " 'WF-5231 04-06.pdf',\n",
       " 'WF-5275 04-01.pdf',\n",
       " 'WF-5856 04-06.pdf',\n",
       " 'WF-6715 04-06.pdf',\n",
       " 'WF-6828 04-05.pdf',\n",
       " 'WF-7837 04-07.pdf']"
      ]
     },
     "execution_count": 3,
     "metadata": {},
     "output_type": "execute_result"
    }
   ],
   "source": [
    "[i for i in glob.iglob(\"*.pdf\")]"
   ]
  },
  {
   "cell_type": "code",
   "execution_count": 13,
   "id": "721c6b26-af77-42d5-a193-f1039cb416f9",
   "metadata": {},
   "outputs": [
    {
     "name": "stderr",
     "output_type": "stream",
     "text": [
      "'pwd' is not recognized as an internal or external command,\n",
      "operable program or batch file.\n"
     ]
    }
   ],
   "source": [
    "!pwd"
   ]
  },
  {
   "cell_type": "code",
   "execution_count": 4,
   "id": "28d7424a-96f9-4a2e-b3af-9a4d17a1c172",
   "metadata": {
    "scrolled": true
   },
   "outputs": [
    {
     "name": "stdout",
     "output_type": "stream",
     "text": [
      "WF 1998 4_4.pdf\n",
      "Conversion For WF 1998 4_4.pdf completed\n",
      "WF 1998 4_6.pdf\n",
      "Conversion For WF 1998 4_6.pdf completed\n",
      "WF 5991 3_31.pdf\n",
      "Conversion For WF 5991 3_31.pdf completed\n",
      "WF 6465 4_6.pdf\n",
      "Conversion For WF 6465 4_6.pdf completed\n",
      "WF 7591 4_6.pdf\n",
      "Conversion For WF 7591 4_6.pdf completed\n",
      "WF 9841 4_ 6.pdf\n",
      "Conversion For WF 9841 4_ 6.pdf completed\n",
      "WF 9841 4_6.pdf\n",
      "Conversion For WF 9841 4_6.pdf completed\n",
      "WF-0155 04-07.pdf\n",
      "Conversion For WF-0155 04-07.pdf completed\n",
      "WF-0518 04-04.pdf\n",
      "Conversion For WF-0518 04-04.pdf completed\n",
      "WF-1978 04-05.pdf\n",
      "Conversion For WF-1978 04-05.pdf completed\n",
      "WF-1998 04-05.pdf\n",
      "Conversion For WF-1998 04-05.pdf completed\n",
      "WF-1998 04_05.pdf\n",
      "Conversion For WF-1998 04_05.pdf completed\n",
      "WF-2064 04-07.pdf\n",
      "Conversion For WF-2064 04-07.pdf completed\n",
      "WF-2121 04-06.pdf\n",
      "Conversion For WF-2121 04-06.pdf completed\n",
      "WF-2446 03-31.pdf\n",
      "Conversion For WF-2446 03-31.pdf completed\n",
      "WF-2455 04-07.pdf\n",
      "Conversion For WF-2455 04-07.pdf completed\n",
      "WF-2483 04_05.pdf\n",
      "Conversion For WF-2483 04_05.pdf completed\n",
      "WF-2688 04-07.pdf\n",
      "Conversion For WF-2688 04-07.pdf completed\n",
      "WF-2857 04-05.pdf\n",
      "Conversion For WF-2857 04-05.pdf completed\n",
      "WF-3271 04-06.pdf\n",
      "Conversion For WF-3271 04-06.pdf completed\n",
      "WF-3376 04-04.pdf\n",
      "Conversion For WF-3376 04-04.pdf completed\n",
      "WF-3875 04-04.pdf\n",
      "Conversion For WF-3875 04-04.pdf completed\n",
      "WF-4708 04-04.pdf\n",
      "Conversion For WF-4708 04-04.pdf completed\n",
      "WF-4981 04-07.pdf\n",
      "Conversion For WF-4981 04-07.pdf completed\n",
      "WF-5231 04-06.pdf\n",
      "Conversion For WF-5231 04-06.pdf completed\n",
      "WF-5275 04-01.pdf\n",
      "Conversion For WF-5275 04-01.pdf completed\n",
      "WF-5856 04-06.pdf\n",
      "Conversion For WF-5856 04-06.pdf completed\n",
      "WF-6715 04-06.pdf\n",
      "Conversion For WF-6715 04-06.pdf completed\n",
      "WF-6828 04-05.pdf\n",
      "Conversion For WF-6828 04-05.pdf completed\n",
      "WF-7837 04-07.pdf\n",
      "Conversion For WF-7837 04-07.pdf completed\n"
     ]
    }
   ],
   "source": [
    "pwd = os.getcwd()\n",
    "for pdf_file in glob.iglob(\"*.pdf\"):\n",
    "    print(pdf_file)\n",
    "    pages = convert_from_path(pdf_file, 700,poppler_path=r\"C:\\Program Files\\poppler-0.68.0\\bin\")\n",
    "    pdf_file = pdf_file.split(\"/\")[-1]\n",
    "#     os.mkdir(f'./test_pdfs_to_pngs/{pdf_file}')\n",
    "#     os.chdir(f'./test_pdfs_to_pngs/{pdf_file}')\n",
    "    for i, page in enumerate(pages):\n",
    "        page.save(f'./pdf_to_images/{pdf_file}_page_{i}.png', 'PNG')\n",
    "    print(f'Conversion For {pdf_file} completed')    \n",
    "    os.chdir(pwd)    "
   ]
  },
  {
   "cell_type": "markdown",
   "id": "396dc70f-b561-4e8f-946f-24c929dadaa6",
   "metadata": {},
   "source": [
    "## Copying all the PNGs from the PDF folders to A single folder\n"
   ]
  },
  {
   "cell_type": "code",
   "execution_count": 13,
   "id": "7130f3c9-f0da-4a81-b327-51c3eecf2ff3",
   "metadata": {},
   "outputs": [
    {
     "name": "stdout",
     "output_type": "stream",
     "text": [
      "/media/gsatis/ssdnvme/karndeep/Parties_Project/Object_Detection/yolov5/eFax\n"
     ]
    }
   ],
   "source": [
    "!pwd"
   ]
  },
  {
   "cell_type": "code",
   "execution_count": 29,
   "id": "0af1bc8c-02de-4652-9777-76d8ff0a1515",
   "metadata": {},
   "outputs": [],
   "source": [
    "import shutil\n",
    "import os\n",
    "    \n",
    "source_dir = \"./test_pdfs_to_pngs/\"\n",
    "target_dir = \"./test_pngs/\"\n",
    "    \n",
    "file_names = [file for file in os.listdir(source_dir) if file.endswith(\".pdf\")]\n",
    "    \n",
    "for file_name in file_names:\n",
    "    png_list = os.listdir(f\"{source_dir}/{file_name}\")\n",
    "    for png in png_list:\n",
    "        try:\n",
    "            shutil.copy(os.path.join(f\"{source_dir}/{file_name}\",png), target_dir)\n",
    "        except:\n",
    "            pass"
   ]
  },
  {
   "cell_type": "code",
   "execution_count": 15,
   "id": "f6e85c48-efe9-45df-942b-9bd094a1d70d",
   "metadata": {},
   "outputs": [
    {
     "data": {
      "text/plain": [
       "['UWM Mortgage-2720 02-25.pdf',\n",
       " 'Arvest-0566 02-25 Stamping.pdf',\n",
       " 'Bank of America.pdf',\n",
       " 'WellsFargo- 9263 02-25 Stamping.pdf',\n",
       " 'Arvest.pdf',\n",
       " 'UWM Mortgage-2720 02-25 Stamping.pdf',\n",
       " 'CalHFA-3695 & 3696 02-25 Stamping.pdf',\n",
       " 'Cenlar.pdf',\n",
       " 'CalHFA-3695 & 3696 02-25.pdf',\n",
       " 'Roundpoint.pdf',\n",
       " 'Dovenmuehle.pdf',\n",
       " 'HomePoint-4822 02-25 Stamping.pdf',\n",
       " 'WellsFargo-9263 02-25.pdf',\n",
       " 'Flagstar.pdf',\n",
       " 'Mr Cooper.pdf',\n",
       " 'UWM.pdf',\n",
       " 'Wellsfargo.pdf',\n",
       " 'Loandepot.pdf',\n",
       " 'Select Portfolio Service.pdf',\n",
       " 'Union Bank.pdf',\n",
       " 'HomePoint-4822 02-25.pdf',\n",
       " 'Arvest-0566 02-25.pdf']"
      ]
     },
     "execution_count": 15,
     "metadata": {},
     "output_type": "execute_result"
    }
   ],
   "source": [
    "file_names"
   ]
  },
  {
   "cell_type": "code",
   "execution_count": null,
   "id": "7a9c44e0-3ef8-4d97-8560-2cf15f89177f",
   "metadata": {},
   "outputs": [],
   "source": []
  }
 ],
 "metadata": {
  "kernelspec": {
   "display_name": "Python 3",
   "language": "python",
   "name": "python3"
  },
  "language_info": {
   "codemirror_mode": {
    "name": "ipython",
    "version": 3
   },
   "file_extension": ".py",
   "mimetype": "text/x-python",
   "name": "python",
   "nbconvert_exporter": "python",
   "pygments_lexer": "ipython3",
   "version": "3.8.8"
  }
 },
 "nbformat": 4,
 "nbformat_minor": 5
}

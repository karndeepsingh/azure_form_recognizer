{
 "cells": [
  {
   "cell_type": "code",
   "execution_count": 6,
   "id": "66c9c16a",
   "metadata": {},
   "outputs": [],
   "source": [
    "import pandas as pd\n",
    "import numpy as np\n",
    "import os\n",
    "from azure.core.credentials import AzureKeyCredential\n",
    "from azure.ai.formrecognizer import DocumentAnalysisClient"
   ]
  },
  {
   "cell_type": "markdown",
   "id": "7c4a44ee",
   "metadata": {},
   "source": [
    "# GENERAL DOCUMENT MODEL"
   ]
  },
  {
   "cell_type": "code",
   "execution_count": 11,
   "id": "34913e08",
   "metadata": {},
   "outputs": [
    {
     "name": "stdout",
     "output_type": "stream",
     "text": [
      "----Key-value pairs found in document----\n",
      "Key '[Street Address]': Value:\n",
      "Key '[City, ST': Value: 'ZIP]'\n",
      "Key 'Phone:': Value: '(000) 000-0000'\n",
      "Key 'INVOICE #': Value: '2034'\n",
      "Key 'DATE': Value: '2/21/2018'\n",
      "Key 'CUSTOMER ID': Value: '564'\n",
      "Key 'TERMS': Value: 'Due Upon Receipt'\n",
      "Key '[Name]': Value:\n",
      "Key '[Company Name]': Value:\n",
      "Key '[Street Address]': Value:\n",
      "Key '[City, ST ZIP]': Value:\n",
      "Key '[Phone]': Value:\n",
      "Key '[Email Address]': Value:\n",
      "Table # 0 has 8 rows and 4 columns\n",
      "...Cell[0][0] has content 'b'DESCRIPTION''\n",
      "...Cell[0][1] has content 'b'QTY''\n",
      "...Cell[0][2] has content 'b'UNIT PRICE''\n",
      "...Cell[0][3] has content 'b'AMOUNT''\n",
      "...Cell[1][0] has content 'b'Service Fee''\n",
      "...Cell[1][1] has content 'b'1''\n",
      "...Cell[1][2] has content 'b'200.00''\n",
      "...Cell[1][3] has content 'b'200.00''\n",
      "...Cell[2][0] has content 'b'Labor: 5 hours at $75/hr''\n",
      "...Cell[2][1] has content 'b'5''\n",
      "...Cell[2][2] has content 'b'75.00''\n",
      "...Cell[2][3] has content 'b'375.00''\n",
      "...Cell[3][0] has content 'b'New client discount''\n",
      "...Cell[3][1] has content 'b'''\n",
      "...Cell[3][2] has content 'b'(50.00)''\n",
      "...Cell[3][3] has content 'b'(50.00)''\n",
      "...Cell[4][0] has content 'b'''\n",
      "...Cell[4][1] has content 'b'''\n",
      "...Cell[4][2] has content 'b'''\n",
      "...Cell[4][3] has content 'b'''\n",
      "...Cell[5][0] has content 'b'''\n",
      "...Cell[5][1] has content 'b'''\n",
      "...Cell[5][2] has content 'b'''\n",
      "...Cell[5][3] has content 'b'''\n",
      "...Cell[6][0] has content 'b'''\n",
      "...Cell[6][1] has content 'b'''\n",
      "...Cell[6][2] has content 'b'''\n",
      "...Cell[6][3] has content 'b'''\n",
      "...Cell[7][0] has content 'b'''\n",
      "...Cell[7][1] has content 'b'''\n",
      "...Cell[7][2] has content 'b'''\n",
      "...Cell[7][3] has content 'b'''\n",
      "Table # 1 has 2 rows and 2 columns\n",
      "...Cell[0][0] has content 'b'INVOICE #''\n",
      "...Cell[0][1] has content 'b'DATE''\n",
      "...Cell[1][0] has content 'b'2034''\n",
      "...Cell[1][1] has content 'b'2/21/2018''\n",
      "----------------------------------------\n"
     ]
    }
   ],
   "source": [
    "\"\"\"\n",
    "This code sample shows Prebuilt Document operations with the Azure Form Recognizer client library. \n",
    "The async versions of the samples require Python 3.6 or later.\n",
    "\n",
    "To learn more, please visit the documentation - Quickstart: Form Recognizer Python client library SDKs v3.0\n",
    "https://docs.microsoft.com/en-us/azure/applied-ai-services/form-recognizer/quickstarts/try-v3-python-sdk\n",
    "\"\"\"\n",
    "\n",
    "from azure.core.credentials import AzureKeyCredential\n",
    "from azure.ai.formrecognizer import DocumentAnalysisClient\n",
    "\n",
    "endpoint = \"https://policyformrecognizer.cognitiveservices.azure.com/\"\n",
    "key = \"70e2faccdcab4e1384ecc8389ff47246\"\n",
    "\n",
    "pdf_path = r\"C:\\Users\\6130674\\OneDrive - Fidelity National Financial\\Desktop\\invoice_1.jpg\"\n",
    "#formUrl = \"https://raw.githubusercontent.com/Azure-Samples/cognitive-services-REST-api-samples/master/curl/form-recognizer/sample-layout.pdf\"\n",
    "\n",
    "document_analysis_client = DocumentAnalysisClient(\n",
    "        endpoint=endpoint, credential=AzureKeyCredential(key)\n",
    "    )\n",
    "    \n",
    "with open(pdf_path, \"rb\") as f:\n",
    "    poller = document_analysis_client.begin_analyze_document(\"prebuilt-document\", f)\n",
    "result = poller.result()\n",
    "\n",
    "print(\"----Key-value pairs found in document----\")\n",
    "for kv_pair in result.key_value_pairs:\n",
    "    if kv_pair.key and kv_pair.value:\n",
    "        print(\"Key '{}': Value: '{}'\".format(kv_pair.key.content, kv_pair.value.content))\n",
    "    else:\n",
    "        print(\"Key '{}': Value:\".format(kv_pair.key.content))\n",
    "            \n",
    "# print(\"\\n----Entities found in document----\")\n",
    "# for entity in result.entities:\n",
    "#     print(\"Category '{}': Sub-category: '{}': Content: '{}'\".format(entity.category, entity.sub_category,entity.content))\n",
    "\n",
    "# print(\"----------------------------------------\")\n",
    "\n",
    "for table_idx, table in enumerate(result.tables):\n",
    "    print(\n",
    "        \"Table # {} has {} rows and {} columns\".format(\n",
    "        table_idx, table.row_count, table.column_count\n",
    "        )\n",
    "    )\n",
    "  \n",
    "        \n",
    "    for cell in table.cells:\n",
    "        print(\n",
    "            \"...Cell[{}][{}] has content '{}'\".format(\n",
    "            cell.row_index,\n",
    "            cell.column_index,\n",
    "            cell.content.encode(\"utf-8\"),\n",
    "            )\n",
    "        )\n",
    "\n",
    "print(\"----------------------------------------\")\n"
   ]
  },
  {
   "cell_type": "code",
   "execution_count": 64,
   "id": "3ce2d13f",
   "metadata": {},
   "outputs": [
    {
     "name": "stdout",
     "output_type": "stream",
     "text": [
      "Key 'PG:': Value: '1'\n",
      "Key 'COURT DIVISION:': Value: 'CIVIL'\n",
      "Key 'CASE TYPE:': Value: 'FORECLOSURE'\n",
      "Key 'FROM:': Value: '3/27/2022 to 3/31/2022'\n",
      "Key 'JUDGE:': Value: 'ALL'\n",
      "Key 'FILE DATE:': Value: '3/30/2022'\n",
      "Key 'CASE TYPE:': Value:\n",
      "Key 'FORECLOSURE JUDGE:': Value: 'BAKER ROSS, SUSAN'\n",
      "Key 'Plaintiff:': Value: 'PENNYMAC LOAN SERVICES, LLC 3043 TOWNSGATE ROAD SUITE 200 WESTLAKE VILLAGE, CA 91361'\n",
      "Key 'Plaintiff Attorney:': Value: 'BRINKMAN, MICHAEL'\n",
      "Key 'Defendant:': Value: 'HEATHER BIERI 1245 GORGE BLVD AKRON, OH 44310'\n",
      "Key 'FILE DATE:': Value: '3/29/2022'\n",
      "Key 'CASE TYPE:': Value:\n",
      "Key 'FORECLOSURE JUDGE:': Value: 'BREAUX, ALISON'\n",
      "Key 'Plaintiff:': Value: 'U.S. BANK NATIONAL ASSOCIATION 4801 FREDERICA STREET OWENSBORO, KY 42301'\n",
      "Key 'Plaintiff Attorney:': Value: 'COLE, AARON'\n",
      "Key 'Defendant:': Value: 'HERBERT MICHAEL RAUCH AKA HERBERT M RAUCH 243 DAYTON PL AKRON, OH 44310'\n",
      "Key 'FILE DATE:': Value: '3/29/2022'\n",
      "Key 'CASE TYPE:': Value:\n",
      "Key 'FORECLOSURE JUDGE:': Value: 'BREAUX, ALISON'\n",
      "Key 'Plaintiff:': Value: 'JPMORGAN CHASE BANK, NATIONAL ASSOCIATIO 800 BROOKSEDGE BOULEVARD WESTERVILLE, OH 43081'\n",
      "Key 'Plaintiff Attorney:': Value: 'HAESSIG, DOUGLAS'\n",
      "Key 'Defendant:': Value: 'ZACHARY A. LING 4209 PARADISE STREET SOUTHWEST CANTON, OH 44706'\n",
      "Key 'FILE DATE:': Value: '3/29/2022'\n",
      "Key 'CASE TYPE:': Value:\n",
      "Key 'FORECLOSURE JUDGE:': Value: 'BREAUX, ALISON'\n",
      "Key 'Plaintiff:': Value: 'ADJUSTABLE RATE MORTGAGE TRUST 2005-5, A C/O SPECIALIZED LOAN SERVICING LLC 6200 S. QUEBEC ST. GREENWOOD VILLAGE, CO 80111'\n",
      "Key 'Plaintiff Attorney:': Value: 'CLUNK, ETHAN'\n",
      "Key 'Defendant:': Value: 'KEVIN P. KILLEEN 300 BICKNELL DRIVE HUDSON, OH 44236'\n",
      "Key 'FILE DATE:': Value: '3/28/2022'\n",
      "Key 'CASE TYPE:': Value:\n",
      "Key 'FORECLOSURE JUDGE:': Value: 'CORRIGALL AMY'\n",
      "Key 'Plaintiff:': Value: 'WELLS FARGO BANK, N.A. 1 HOME CAMPUS DES MOINES, IA 50328'\n",
      "Key 'Plaintiff Attorney:': Value: 'JOHNSON, JESSICA'\n",
      "Key 'Defendant:': Value: 'ELTON CAMERON 3298 SHALE DR TWINSBURG, OH 44087'\n",
      "Key 'FILE DATE:': Value: '3/28/2022'\n",
      "Key 'CASE TYPE: FORECLOSURE JUDGE:': Value: 'CORRIGALL'\n",
      "Key 'Plaintiff:': Value: 'FIRST GUARANTY MORTGAGE CORPORATION 15480'\n",
      "Key 'Plaintiff Attorney:': Value: 'FOSTER, ADRIENNE'\n",
      "Key 'Defendant:': Value: 'PHILLIP PATE AKA PHILLIP D. PATE'\n",
      "Key 'FILE DATE:': Value: '3/30/2022'\n",
      "Key 'CASE TYPE:': Value: 'FORECLOSURE'\n",
      "Key 'JUDGE:': Value: 'CROCE,'\n",
      "Key 'Plaintiff:': Value: 'FIFTH THIRD BANK, NATIONAL ASSOCIATION, 5001 KINGSLEY DRIVE OH'\n",
      "Key 'Plaintiff Attorney:': Value: 'HOEN, BENJAMIN'\n",
      "Key 'Defendant:': Value: 'DOROTHY J BLAIR 2129 GLENGARY ROAD AKRON, OH 44333'\n",
      "Key 'DROP:': Value: '1MOB10'\n",
      "Key 'FILE DATE:': Value: '3/30/2022'\n",
      "Key 'CASE TYPE:': Value:\n",
      "Key 'JUDGE:': Value: 'CROCE, CHRISTINE'\n",
      "Key 'Plaintiff:': Value: 'GOVERNMENT LOAN SECURITIZATION TRUST 201 6200 S. QUEBEC ST SUITE 300 GREENWOOD VILLAGE, CO 80111'\n",
      "Key 'Plaintiff Attorney:': Value: 'COLE, AARON'\n",
      "Key 'Defendant:': Value: 'EDWARD L WALKER 1588 PILGRIM ST AKRON, OH 44305'\n",
      "Key 'FILE DATE:': Value: '3/28/2022'\n",
      "Key 'CASE TYPE:': Value:\n",
      "Key 'JUDGE:': Value: 'MCCARTY, ALISON'\n",
      "Key 'Plaintiff:': Value: 'ROCKET MORTGAGE LLC FKA QUICKEN LOANS LL 635 WOODWARD AVE. DETROIT, MI 48226'\n",
      "Key 'Plaintiff Attorney:': Value: 'HAESSIG, DOUGLAS'\n",
      "Key 'Defendant:': Value: 'SCOTT A TROUT 946 WOOSTER ROAD WEST BARBERTON, OH 44203'\n",
      "Key 'FILE DATE:': Value: '3/29/2022'\n",
      "Key 'CASE TYPE:': Value: 'ALISON'\n",
      "Key 'Plaintiff:': Value: 'KRISTEN M SCALISE 175 S MAIN ST AKRON, OH 44308'\n",
      "Key 'Plaintiff Attorney:': Value: 'PIATT, JENNIFER'\n",
      "Key 'Defendant:': Value: 'EQUITY TRUST CO, CUSTODIAN FBO IRA ACCT#27909 PO BOX 1052 AKRON, OH 44309'\n",
      "Key 'FILE DATE:': Value: '3/28/2022'\n",
      "Key 'CASE FORECLOSURE': Value:\n",
      "Key 'JUDGE:': Value: 'MCLAUGHLIN, KELLY'\n",
      "Key 'Plaintiff:': Value: 'NATIONSTAR MORTGAGE LLC D/B/A MR. COOPER 350 LEWISVILLE DR LEWISVILLE, TX 75067'\n",
      "Key 'Plaintiff Attorney:': Value: 'LEMBRIGHT, MARK'\n",
      "Key 'Defendant:': Value: 'RYAN W PETERMAN 65 NORTH FOURTH STREET RITTMAN, OH 44270'\n",
      "Key 'FILE DATE:': Value: '3/29/2022'\n",
      "Key 'CASE TYPE: FORECLOSURE JUDGE:': Value: 'MICHAEL, KATHRYN'\n",
      "Key 'Plaintiff:': Value: 'WELLS FARGO BANK, N.A. 3476 STATEVIEW BOULEVARD FORT MILL, SC 29715'\n",
      "Key 'Plaintiff Attorney:': Value: 'JOHNSON, ANN'\n",
      "Key 'Defendant:': Value: 'JACK J SUMEY 516 CHERRY STREET KENT, OH 44240'\n",
      "Key 'FILE DATE:': Value: '3/30/2022'\n",
      "Key 'CASE': Value: 'TYPE: FORECLOSURE'\n",
      "Key 'JUDGE:': Value: 'O'BRIEN, TAMMY'\n",
      "Key 'Plaintiff:': Value: 'MIDFIRST BANK 999 NW GRAND BOULEVARD'\n",
      "Key 'Plaintiff Attorney:': Value: 'SYKORA, RICHARD'\n",
      "Key 'Defendant:': Value: 'JOSHUA K AXELROD 130 DAWES AVENUE'\n"
     ]
    }
   ],
   "source": [
    "page_number = 0\n",
    "from collections import defaultdict\n",
    "\n",
    "keys = []\n",
    "kv_pair_page_dict = defaultdict(list)\n",
    "for kv_pair in result.key_value_pairs:\n",
    "    page_number = kv_pair.key.bounding_regions[0].page_number\n",
    "    \n",
    "    if kv_pair.key and kv_pair.value:\n",
    "        if kv_pair.key.bounding_regions[0].page_number == page_number and kv_pair.value.bounding_regions[0].page_number==page_number:\n",
    "            kv_pair_page_dict[page_number].append((kv_pair.key.content,kv_pair.value.content))\n",
    "            keys.append(kv_pair.key.content)\n",
    "        print(\"Key '{}': Value: '{}'\".format(kv_pair.key.content, kv_pair.value.content))\n",
    "    else:\n",
    "        if kv_pair.key.bounding_regions[0].page_number == page_number:\n",
    "            kv_pair_page_dict[page_number].append((kv_pair.key.content,\"\"))\n",
    "            keys.append(kv_pair.key.content)\n",
    "        print(\"Key '{}': Value:\".format(kv_pair.key.content))"
   ]
  },
  {
   "cell_type": "code",
   "execution_count": 65,
   "id": "93ac5f72",
   "metadata": {},
   "outputs": [
    {
     "data": {
      "text/plain": [
       "dict_keys([1, 2])"
      ]
     },
     "execution_count": 65,
     "metadata": {},
     "output_type": "execute_result"
    }
   ],
   "source": [
    "kv_pair_page_dict.keys()"
   ]
  },
  {
   "cell_type": "code",
   "execution_count": 63,
   "id": "94dd0641",
   "metadata": {},
   "outputs": [
    {
     "name": "stdout",
     "output_type": "stream",
     "text": [
      "Key 'PG:': Value: '1'\n",
      "Key 'COURT DIVISION:': Value: 'CIVIL'\n",
      "Key 'CASE TYPE:': Value: 'FORECLOSURE'\n",
      "Key 'FROM:': Value: '3/27/2022 to 3/31/2022'\n",
      "Key 'JUDGE:': Value: 'ALL'\n",
      "Key 'FILE DATE:': Value: '3/30/2022'\n",
      "Key 'CASE TYPE:': Value:\n",
      "Key 'FORECLOSURE JUDGE:': Value: 'BAKER ROSS, SUSAN'\n",
      "Key 'Plaintiff:': Value: 'PENNYMAC LOAN SERVICES, LLC 3043 TOWNSGATE ROAD SUITE 200 WESTLAKE VILLAGE, CA 91361'\n",
      "Key 'Plaintiff Attorney:': Value: 'BRINKMAN, MICHAEL'\n",
      "Key 'Defendant:': Value: 'HEATHER BIERI 1245 GORGE BLVD AKRON, OH 44310'\n",
      "Key 'FILE DATE:': Value: '3/29/2022'\n",
      "Key 'CASE TYPE:': Value:\n",
      "Key 'FORECLOSURE JUDGE:': Value: 'BREAUX, ALISON'\n",
      "Key 'Plaintiff:': Value: 'U.S. BANK NATIONAL ASSOCIATION 4801 FREDERICA STREET OWENSBORO, KY 42301'\n",
      "Key 'Plaintiff Attorney:': Value: 'COLE, AARON'\n",
      "Key 'Defendant:': Value: 'HERBERT MICHAEL RAUCH AKA HERBERT M RAUCH 243 DAYTON PL AKRON, OH 44310'\n",
      "Key 'FILE DATE:': Value: '3/29/2022'\n",
      "Key 'CASE TYPE:': Value:\n",
      "Key 'FORECLOSURE JUDGE:': Value: 'BREAUX, ALISON'\n",
      "Key 'Plaintiff:': Value: 'JPMORGAN CHASE BANK, NATIONAL ASSOCIATIO 800 BROOKSEDGE BOULEVARD WESTERVILLE, OH 43081'\n",
      "Key 'Plaintiff Attorney:': Value: 'HAESSIG, DOUGLAS'\n",
      "Key 'Defendant:': Value: 'ZACHARY A. LING 4209 PARADISE STREET SOUTHWEST CANTON, OH 44706'\n",
      "Key 'FILE DATE:': Value: '3/29/2022'\n",
      "Key 'CASE TYPE:': Value:\n",
      "Key 'FORECLOSURE JUDGE:': Value: 'BREAUX, ALISON'\n",
      "Key 'Plaintiff:': Value: 'ADJUSTABLE RATE MORTGAGE TRUST 2005-5, A C/O SPECIALIZED LOAN SERVICING LLC 6200 S. QUEBEC ST. GREENWOOD VILLAGE, CO 80111'\n",
      "Key 'Plaintiff Attorney:': Value: 'CLUNK, ETHAN'\n",
      "Key 'Defendant:': Value: 'KEVIN P. KILLEEN 300 BICKNELL DRIVE HUDSON, OH 44236'\n",
      "Key 'FILE DATE:': Value: '3/28/2022'\n",
      "Key 'CASE TYPE:': Value:\n",
      "Key 'FORECLOSURE JUDGE:': Value: 'CORRIGALL AMY'\n",
      "Key 'Plaintiff:': Value: 'WELLS FARGO BANK, N.A. 1 HOME CAMPUS DES MOINES, IA 50328'\n",
      "Key 'Plaintiff Attorney:': Value: 'JOHNSON, JESSICA'\n",
      "Key 'Defendant:': Value: 'ELTON CAMERON 3298 SHALE DR TWINSBURG, OH 44087'\n",
      "Key 'FILE DATE:': Value: '3/28/2022'\n",
      "Key 'CASE TYPE: FORECLOSURE JUDGE:': Value: 'CORRIGALL'\n",
      "Key 'Plaintiff:': Value: 'FIRST GUARANTY MORTGAGE CORPORATION 15480'\n",
      "Key 'Plaintiff Attorney:': Value: 'FOSTER, ADRIENNE'\n",
      "Key 'Defendant:': Value: 'PHILLIP PATE AKA PHILLIP D. PATE'\n",
      "Key 'FILE DATE:': Value: '3/30/2022'\n",
      "Key 'CASE TYPE:': Value: 'FORECLOSURE'\n",
      "Key 'JUDGE:': Value: 'CROCE,'\n",
      "Key 'Plaintiff:': Value: 'FIFTH THIRD BANK, NATIONAL ASSOCIATION, 5001 KINGSLEY DRIVE OH'\n",
      "Key 'Plaintiff Attorney:': Value: 'HOEN, BENJAMIN'\n",
      "Key 'Defendant:': Value: 'DOROTHY J BLAIR 2129 GLENGARY ROAD AKRON, OH 44333'\n",
      "Key 'DROP:': Value: '1MOB10'\n",
      "Key 'FILE DATE:': Value: '3/30/2022'\n",
      "Key 'CASE TYPE:': Value:\n",
      "Key 'JUDGE:': Value: 'CROCE, CHRISTINE'\n",
      "Key 'Plaintiff:': Value: 'GOVERNMENT LOAN SECURITIZATION TRUST 201 6200 S. QUEBEC ST SUITE 300 GREENWOOD VILLAGE, CO 80111'\n",
      "Key 'Plaintiff Attorney:': Value: 'COLE, AARON'\n",
      "Key 'Defendant:': Value: 'EDWARD L WALKER 1588 PILGRIM ST AKRON, OH 44305'\n",
      "Key 'FILE DATE:': Value: '3/28/2022'\n",
      "Key 'CASE TYPE:': Value:\n",
      "Key 'JUDGE:': Value: 'MCCARTY, ALISON'\n",
      "Key 'Plaintiff:': Value: 'ROCKET MORTGAGE LLC FKA QUICKEN LOANS LL 635 WOODWARD AVE. DETROIT, MI 48226'\n",
      "Key 'Plaintiff Attorney:': Value: 'HAESSIG, DOUGLAS'\n",
      "Key 'Defendant:': Value: 'SCOTT A TROUT 946 WOOSTER ROAD WEST BARBERTON, OH 44203'\n",
      "Key 'FILE DATE:': Value: '3/29/2022'\n",
      "Key 'CASE TYPE:': Value: 'ALISON'\n",
      "Key 'Plaintiff:': Value: 'KRISTEN M SCALISE 175 S MAIN ST AKRON, OH 44308'\n",
      "Key 'Plaintiff Attorney:': Value: 'PIATT, JENNIFER'\n",
      "Key 'Defendant:': Value: 'EQUITY TRUST CO, CUSTODIAN FBO IRA ACCT#27909 PO BOX 1052 AKRON, OH 44309'\n",
      "Key 'FILE DATE:': Value: '3/28/2022'\n",
      "Key 'CASE FORECLOSURE': Value:\n",
      "Key 'JUDGE:': Value: 'MCLAUGHLIN, KELLY'\n",
      "Key 'Plaintiff:': Value: 'NATIONSTAR MORTGAGE LLC D/B/A MR. COOPER 350 LEWISVILLE DR LEWISVILLE, TX 75067'\n",
      "Key 'Plaintiff Attorney:': Value: 'LEMBRIGHT, MARK'\n",
      "Key 'Defendant:': Value: 'RYAN W PETERMAN 65 NORTH FOURTH STREET RITTMAN, OH 44270'\n",
      "Key 'FILE DATE:': Value: '3/29/2022'\n",
      "Key 'CASE TYPE: FORECLOSURE JUDGE:': Value: 'MICHAEL, KATHRYN'\n",
      "Key 'Plaintiff:': Value: 'WELLS FARGO BANK, N.A. 3476 STATEVIEW BOULEVARD FORT MILL, SC 29715'\n",
      "Key 'Plaintiff Attorney:': Value: 'JOHNSON, ANN'\n",
      "Key 'Defendant:': Value: 'JACK J SUMEY 516 CHERRY STREET KENT, OH 44240'\n",
      "Key 'FILE DATE:': Value: '3/30/2022'\n",
      "Key 'CASE': Value: 'TYPE: FORECLOSURE'\n",
      "Key 'JUDGE:': Value: 'O'BRIEN, TAMMY'\n",
      "Key 'Plaintiff:': Value: 'MIDFIRST BANK 999 NW GRAND BOULEVARD'\n",
      "Key 'Plaintiff Attorney:': Value: 'SYKORA, RICHARD'\n",
      "Key 'Defendant:': Value: 'JOSHUA K AXELROD 130 DAWES AVENUE'\n"
     ]
    }
   ],
   "source": [
    "from collections import defaultdict\n",
    "  \n",
    "kv_pair_page_dict = defaultdict(list)\n",
    "for kv_pair in result.key_value_pairs:\n",
    "    page_number = kv_pair.key.bounding_regions[0].page_number\n",
    "    \n",
    "    if kv_pair.key and kv_pair.value:\n",
    "        if kv_pair.key.bounding_regions[0].page_number == page_number and kv_pair.value.bounding_regions[0].page_number==page_number:\n",
    "            kv_pair_page_dict[kv_pair.key.content].append(kv_pair.value.content) \n",
    "        print(\"Key '{}': Value: '{}'\".format(kv_pair.key.content, kv_pair.value.content))\n",
    "    else:\n",
    "        if kv_pair.key.bounding_regions[0].page_number == page_number:\n",
    "            kv_pair_page_dict[kv_pair.key.content].append(\"\") \n",
    "        print(\"Key '{}': Value:\".format(kv_pair.key.content))"
   ]
  },
  {
   "cell_type": "code",
   "execution_count": null,
   "id": "213434b3",
   "metadata": {},
   "outputs": [],
   "source": [
    "pd.concat({k: pd.DataFrame(v) for k, v in kv_pair_page_dict.items()}, axis=1)"
   ]
  },
  {
   "cell_type": "code",
   "execution_count": 66,
   "id": "5ce60745",
   "metadata": {},
   "outputs": [
    {
     "data": {
      "text/plain": [
       "defaultdict(list,\n",
       "            {1: [('PG:', '1'),\n",
       "              ('COURT DIVISION:', 'CIVIL'),\n",
       "              ('CASE TYPE:', 'FORECLOSURE'),\n",
       "              ('FROM:', '3/27/2022 to 3/31/2022'),\n",
       "              ('JUDGE:', 'ALL'),\n",
       "              ('FILE DATE:', '3/30/2022'),\n",
       "              ('CASE TYPE:', ''),\n",
       "              ('FORECLOSURE JUDGE:', 'BAKER ROSS, SUSAN'),\n",
       "              ('Plaintiff:',\n",
       "               'PENNYMAC LOAN SERVICES, LLC 3043 TOWNSGATE ROAD SUITE 200 WESTLAKE VILLAGE, CA 91361'),\n",
       "              ('Plaintiff Attorney:', 'BRINKMAN, MICHAEL'),\n",
       "              ('Defendant:', 'HEATHER BIERI 1245 GORGE BLVD AKRON, OH 44310'),\n",
       "              ('FILE DATE:', '3/29/2022'),\n",
       "              ('CASE TYPE:', ''),\n",
       "              ('FORECLOSURE JUDGE:', 'BREAUX, ALISON'),\n",
       "              ('Plaintiff:',\n",
       "               'U.S. BANK NATIONAL ASSOCIATION 4801 FREDERICA STREET OWENSBORO, KY 42301'),\n",
       "              ('Plaintiff Attorney:', 'COLE, AARON'),\n",
       "              ('Defendant:',\n",
       "               'HERBERT MICHAEL RAUCH AKA HERBERT M RAUCH 243 DAYTON PL AKRON, OH 44310'),\n",
       "              ('FILE DATE:', '3/29/2022'),\n",
       "              ('CASE TYPE:', ''),\n",
       "              ('FORECLOSURE JUDGE:', 'BREAUX, ALISON'),\n",
       "              ('Plaintiff:',\n",
       "               'JPMORGAN CHASE BANK, NATIONAL ASSOCIATIO 800 BROOKSEDGE BOULEVARD WESTERVILLE, OH 43081'),\n",
       "              ('Plaintiff Attorney:', 'HAESSIG, DOUGLAS'),\n",
       "              ('Defendant:',\n",
       "               'ZACHARY A. LING 4209 PARADISE STREET SOUTHWEST CANTON, OH 44706'),\n",
       "              ('FILE DATE:', '3/29/2022'),\n",
       "              ('CASE TYPE:', ''),\n",
       "              ('FORECLOSURE JUDGE:', 'BREAUX, ALISON'),\n",
       "              ('Plaintiff:',\n",
       "               'ADJUSTABLE RATE MORTGAGE TRUST 2005-5, A C/O SPECIALIZED LOAN SERVICING LLC 6200 S. QUEBEC ST. GREENWOOD VILLAGE, CO 80111'),\n",
       "              ('Plaintiff Attorney:', 'CLUNK, ETHAN'),\n",
       "              ('Defendant:',\n",
       "               'KEVIN P. KILLEEN 300 BICKNELL DRIVE HUDSON, OH 44236'),\n",
       "              ('FILE DATE:', '3/28/2022'),\n",
       "              ('CASE TYPE:', ''),\n",
       "              ('FORECLOSURE JUDGE:', 'CORRIGALL AMY'),\n",
       "              ('Plaintiff:',\n",
       "               'WELLS FARGO BANK, N.A. 1 HOME CAMPUS DES MOINES, IA 50328'),\n",
       "              ('Plaintiff Attorney:', 'JOHNSON, JESSICA'),\n",
       "              ('Defendant:',\n",
       "               'ELTON CAMERON 3298 SHALE DR TWINSBURG, OH 44087'),\n",
       "              ('FILE DATE:', '3/28/2022'),\n",
       "              ('CASE TYPE: FORECLOSURE JUDGE:', 'CORRIGALL'),\n",
       "              ('Plaintiff:', 'FIRST GUARANTY MORTGAGE CORPORATION 15480'),\n",
       "              ('Plaintiff Attorney:', 'FOSTER, ADRIENNE'),\n",
       "              ('Defendant:', 'PHILLIP PATE AKA PHILLIP D. PATE'),\n",
       "              ('FILE DATE:', '3/30/2022'),\n",
       "              ('CASE TYPE:', 'FORECLOSURE'),\n",
       "              ('JUDGE:', 'CROCE,')],\n",
       "             2: [('Plaintiff:',\n",
       "               'FIFTH THIRD BANK, NATIONAL ASSOCIATION, 5001 KINGSLEY DRIVE OH'),\n",
       "              ('Plaintiff Attorney:', 'HOEN, BENJAMIN'),\n",
       "              ('Defendant:',\n",
       "               'DOROTHY J BLAIR 2129 GLENGARY ROAD AKRON, OH 44333'),\n",
       "              ('DROP:', '1MOB10'),\n",
       "              ('FILE DATE:', '3/30/2022'),\n",
       "              ('CASE TYPE:', ''),\n",
       "              ('JUDGE:', 'CROCE, CHRISTINE'),\n",
       "              ('Plaintiff:',\n",
       "               'GOVERNMENT LOAN SECURITIZATION TRUST 201 6200 S. QUEBEC ST SUITE 300 GREENWOOD VILLAGE, CO 80111'),\n",
       "              ('Plaintiff Attorney:', 'COLE, AARON'),\n",
       "              ('Defendant:',\n",
       "               'EDWARD L WALKER 1588 PILGRIM ST AKRON, OH 44305'),\n",
       "              ('FILE DATE:', '3/28/2022'),\n",
       "              ('CASE TYPE:', ''),\n",
       "              ('JUDGE:', 'MCCARTY, ALISON'),\n",
       "              ('Plaintiff:',\n",
       "               'ROCKET MORTGAGE LLC FKA QUICKEN LOANS LL 635 WOODWARD AVE. DETROIT, MI 48226'),\n",
       "              ('Plaintiff Attorney:', 'HAESSIG, DOUGLAS'),\n",
       "              ('Defendant:',\n",
       "               'SCOTT A TROUT 946 WOOSTER ROAD WEST BARBERTON, OH 44203'),\n",
       "              ('FILE DATE:', '3/29/2022'),\n",
       "              ('CASE TYPE:', 'ALISON'),\n",
       "              ('Plaintiff:',\n",
       "               'KRISTEN M SCALISE 175 S MAIN ST AKRON, OH 44308'),\n",
       "              ('Plaintiff Attorney:', 'PIATT, JENNIFER'),\n",
       "              ('Defendant:',\n",
       "               'EQUITY TRUST CO, CUSTODIAN FBO IRA ACCT#27909 PO BOX 1052 AKRON, OH 44309'),\n",
       "              ('FILE DATE:', '3/28/2022'),\n",
       "              ('CASE FORECLOSURE', ''),\n",
       "              ('JUDGE:', 'MCLAUGHLIN, KELLY'),\n",
       "              ('Plaintiff:',\n",
       "               'NATIONSTAR MORTGAGE LLC D/B/A MR. COOPER 350 LEWISVILLE DR LEWISVILLE, TX 75067'),\n",
       "              ('Plaintiff Attorney:', 'LEMBRIGHT, MARK'),\n",
       "              ('Defendant:',\n",
       "               'RYAN W PETERMAN 65 NORTH FOURTH STREET RITTMAN, OH 44270'),\n",
       "              ('FILE DATE:', '3/29/2022'),\n",
       "              ('CASE TYPE: FORECLOSURE JUDGE:', 'MICHAEL, KATHRYN'),\n",
       "              ('Plaintiff:',\n",
       "               'WELLS FARGO BANK, N.A. 3476 STATEVIEW BOULEVARD FORT MILL, SC 29715'),\n",
       "              ('Plaintiff Attorney:', 'JOHNSON, ANN'),\n",
       "              ('Defendant:', 'JACK J SUMEY 516 CHERRY STREET KENT, OH 44240'),\n",
       "              ('FILE DATE:', '3/30/2022'),\n",
       "              ('CASE', 'TYPE: FORECLOSURE'),\n",
       "              ('JUDGE:', \"O'BRIEN, TAMMY\"),\n",
       "              ('Plaintiff:', 'MIDFIRST BANK 999 NW GRAND BOULEVARD'),\n",
       "              ('Plaintiff Attorney:', 'SYKORA, RICHARD'),\n",
       "              ('Defendant:', 'JOSHUA K AXELROD 130 DAWES AVENUE')]})"
      ]
     },
     "execution_count": 66,
     "metadata": {},
     "output_type": "execute_result"
    }
   ],
   "source": [
    "kv_pair_page_dict"
   ]
  },
  {
   "cell_type": "code",
   "execution_count": 54,
   "id": "20a966a7",
   "metadata": {},
   "outputs": [],
   "source": [
    "list_keys = np.unique(keys)"
   ]
  },
  {
   "cell_type": "code",
   "execution_count": 55,
   "id": "101d5001",
   "metadata": {},
   "outputs": [
    {
     "data": {
      "text/plain": [
       "array(['CASE', 'CASE FORECLOSURE', 'CASE TYPE:',\n",
       "       'CASE TYPE: FORECLOSURE JUDGE:', 'COURT DIVISION:', 'DROP:',\n",
       "       'Defendant:', 'FILE DATE:', 'FORECLOSURE JUDGE:', 'FROM:',\n",
       "       'JUDGE:', 'PG:', 'Plaintiff Attorney:', 'Plaintiff:'], dtype='<U29')"
      ]
     },
     "execution_count": 55,
     "metadata": {},
     "output_type": "execute_result"
    }
   ],
   "source": [
    "list_keys"
   ]
  },
  {
   "cell_type": "code",
   "execution_count": 56,
   "id": "3fcf20c1",
   "metadata": {},
   "outputs": [],
   "source": [
    "list_keys = np.delete(list_keys,[0,1,3,5,8,9,11])"
   ]
  },
  {
   "cell_type": "code",
   "execution_count": 73,
   "id": "6d6f89f3",
   "metadata": {},
   "outputs": [
    {
     "data": {
      "text/plain": [
       "dict_keys([1, 2])"
      ]
     },
     "execution_count": 73,
     "metadata": {},
     "output_type": "execute_result"
    }
   ],
   "source": [
    "kv_pair_page_dict.keys()"
   ]
  },
  {
   "cell_type": "code",
   "execution_count": 91,
   "id": "0c827ff0",
   "metadata": {},
   "outputs": [],
   "source": [
    "from collections import defaultdict\n",
    "\n",
    "updated_dict =defaultdict(list)\n",
    "discarded_dict =defaultdict(list)\n",
    "for v in kv_pair_page_dict.values():\n",
    "    for i in v:\n",
    "        if i[0] in list_keys:\n",
    "            if i[0] == 'CASE TYPE: FORECLOSURE JUDGE:':\n",
    "                i[0].split()\n",
    "                updated_dict[i[0]].append(i[1])\n",
    "        else:\n",
    "            discarded_dict[i[0]].append(i[1])"
   ]
  },
  {
   "cell_type": "code",
   "execution_count": 83,
   "id": "5285b257",
   "metadata": {},
   "outputs": [],
   "source": [
    "dataframe_dict = {k: v for k, v in updated_dict.items()}"
   ]
  },
  {
   "cell_type": "code",
   "execution_count": null,
   "id": "66b687e4",
   "metadata": {},
   "outputs": [],
   "source": [
    "for page, key_value_pair in kv_pair_page_dict.items():\n",
    "    df = pd.DataFrame(data=key_value_pair, columns=[\"Key\", \"Value\"])\n",
    "    df.to_excel(f\"Key_Value_Page_{page}.xlsx\",index=False)\n",
    "        \n",
    "    "
   ]
  },
  {
   "cell_type": "markdown",
   "id": "d718a227",
   "metadata": {},
   "source": [
    "# LAYOUT MODEL "
   ]
  },
  {
   "cell_type": "code",
   "execution_count": 3,
   "id": "022f5b33",
   "metadata": {},
   "outputs": [
    {
     "name": "stdout",
     "output_type": "stream",
     "text": [
      "...Line # 0 has text content 'b'[Company Name]''\n",
      "...Line # 1 has text content 'b'[Street Address]''\n",
      "...Line # 2 has text content 'b'[City, ST ZIP]''\n",
      "...Line # 3 has text content 'b'Phone: (000) 000-0000''\n",
      "...Line # 4 has text content 'b'BILL TO''\n",
      "...Line # 5 has text content 'b'[Name]''\n",
      "...Line # 6 has text content 'b'[Company Name]''\n",
      "...Line # 7 has text content 'b'[Street Address]''\n",
      "...Line # 8 has text content 'b'[City, ST ZIP]''\n",
      "...Line # 9 has text content 'b'[Phone]''\n",
      "...Line # 10 has text content 'b'[Email Address]''\n",
      "...Line # 11 has text content 'b'INVOICE''\n",
      "...Line # 12 has text content 'b'INVOICE #''\n",
      "...Line # 13 has text content 'b'DATE''\n",
      "...Line # 14 has text content 'b'2034''\n",
      "...Line # 15 has text content 'b'2/21/2018''\n",
      "...Line # 16 has text content 'b'CUSTOMER ID''\n",
      "...Line # 17 has text content 'b'TERMS''\n",
      "...Line # 18 has text content 'b'564''\n",
      "...Line # 19 has text content 'b'Due Upon Receipt''\n",
      "...Line # 20 has text content 'b'DESCRIPTION''\n",
      "...Line # 21 has text content 'b'QTY''\n",
      "...Line # 22 has text content 'b'UNIT PRICE''\n",
      "...Line # 23 has text content 'b'AMOUNT''\n",
      "...Line # 24 has text content 'b'Service Fee''\n",
      "...Line # 25 has text content 'b'1''\n",
      "...Line # 26 has text content 'b'200.00''\n",
      "...Line # 27 has text content 'b'200.00''\n",
      "...Line # 28 has text content 'b'Labor: 5 hours at $75/hr''\n",
      "...Line # 29 has text content 'b'5''\n",
      "...Line # 30 has text content 'b'75.00''\n",
      "...Line # 31 has text content 'b'375.00''\n",
      "...Line # 32 has text content 'b'New client discount''\n",
      "...Line # 33 has text content 'b'(50.00)''\n",
      "...Line # 34 has text content 'b'(50.00)''\n",
      "Table # 0 has 8 rows and 4 columns\n",
      "...Cell[0][0] has content 'b'DESCRIPTION''\n",
      "...Cell[0][1] has content 'b'QTY''\n",
      "...Cell[0][2] has content 'b'UNIT PRICE''\n",
      "...Cell[0][3] has content 'b'AMOUNT''\n",
      "...Cell[1][0] has content 'b'Service Fee''\n",
      "...Cell[1][1] has content 'b'1''\n",
      "...Cell[1][2] has content 'b'200.00''\n",
      "...Cell[1][3] has content 'b'200.00''\n",
      "...Cell[2][0] has content 'b'Labor: 5 hours at $75/hr''\n",
      "...Cell[2][1] has content 'b'5''\n",
      "...Cell[2][2] has content 'b'75.00''\n",
      "...Cell[2][3] has content 'b'375.00''\n",
      "...Cell[3][0] has content 'b'New client discount''\n",
      "...Cell[3][1] has content 'b'''\n",
      "...Cell[3][2] has content 'b'(50.00)''\n",
      "...Cell[3][3] has content 'b'(50.00)''\n",
      "...Cell[4][0] has content 'b'''\n",
      "...Cell[4][1] has content 'b'''\n",
      "...Cell[4][2] has content 'b'''\n",
      "...Cell[4][3] has content 'b'''\n",
      "...Cell[5][0] has content 'b'''\n",
      "...Cell[5][1] has content 'b'''\n",
      "...Cell[5][2] has content 'b'''\n",
      "...Cell[5][3] has content 'b'''\n",
      "...Cell[6][0] has content 'b'''\n",
      "...Cell[6][1] has content 'b'''\n",
      "...Cell[6][2] has content 'b'''\n",
      "...Cell[6][3] has content 'b'''\n",
      "...Cell[7][0] has content 'b'''\n",
      "...Cell[7][1] has content 'b'''\n",
      "...Cell[7][2] has content 'b'''\n",
      "...Cell[7][3] has content 'b'''\n",
      "Table # 1 has 2 rows and 2 columns\n",
      "...Cell[0][0] has content 'b'INVOICE #''\n",
      "...Cell[0][1] has content 'b'DATE''\n",
      "...Cell[1][0] has content 'b'2034''\n",
      "...Cell[1][1] has content 'b'2/21/2018''\n",
      "----------------------------------------\n"
     ]
    }
   ],
   "source": [
    "endpoint = \"https://policyformrecognizer.cognitiveservices.azure.com/\"\n",
    "key = \"70e2faccdcab4e1384ecc8389ff47246\"\n",
    "\n",
    "#formUrl = \"https://raw.githubusercontent.com/Azure-Samples/cognitive-services-REST-api-samples/master/curl/form-recognizer/sample-layout.pdf\"\n",
    "#pdf_path = r\"C:\\Users\\6130674\\OneDrive - Fidelity National Financial\\Desktop\\summit co courts 03.30.2022-4.4.2022.pdf\"\n",
    "document_analysis_client = DocumentAnalysisClient(\n",
    "    endpoint=endpoint, credential=AzureKeyCredential(key)\n",
    ")\n",
    "\n",
    "pdf_path = r\"C:\\Users\\6130674\\OneDrive - Fidelity National Financial\\Desktop\\invoice_1.jpg\"\n",
    "\n",
    "with open(pdf_path, \"rb\") as f:\n",
    "    poller = document_analysis_client.begin_analyze_document(\"prebuilt-layout\", f)\n",
    "result = poller.result()\n",
    "\n",
    "for idx, style in enumerate(result.styles):\n",
    "    print(\n",
    "        \"Document contains {} content\".format(\n",
    "         \"handwritten\" if style.is_handwritten else \"no handwritten\"\n",
    "        )\n",
    "    )\n",
    "\n",
    "for page in result.pages:\n",
    "    for line_idx, line in enumerate(page.lines):\n",
    "        print(\n",
    "         \"...Line # {} has text content '{}'\".format(\n",
    "        line_idx,\n",
    "        line.content.encode(\"utf-8\")\n",
    "        )\n",
    "    )\n",
    "\n",
    "    for selection_mark in page.selection_marks:\n",
    "        print(\n",
    "         \"...Selection mark is '{}' and has a confidence of {}\".format(\n",
    "         selection_mark.state,\n",
    "         selection_mark.confidence\n",
    "         )\n",
    "    )\n",
    "\n",
    "for table_idx, table in enumerate(result.tables):\n",
    "    print(\n",
    "        \"Table # {} has {} rows and {} columns\".format(\n",
    "        table_idx, table.row_count, table.column_count\n",
    "        )\n",
    "    )\n",
    "  \n",
    "        \n",
    "    for cell in table.cells:\n",
    "        print(\n",
    "            \"...Cell[{}][{}] has content '{}'\".format(\n",
    "            cell.row_index,\n",
    "            cell.column_index,\n",
    "            cell.content.encode(\"utf-8\"),\n",
    "            )\n",
    "        )\n",
    "\n",
    "print(\"----------------------------------------\")"
   ]
  },
  {
   "cell_type": "code",
   "execution_count": 5,
   "id": "42d6559a",
   "metadata": {},
   "outputs": [
    {
     "data": {
      "text/plain": [
       "'C:\\\\Users\\\\6130674\\\\OneDrive - Fidelity National Financial\\\\Desktop\\\\invoice_1.jpg'"
      ]
     },
     "execution_count": 5,
     "metadata": {},
     "output_type": "execute_result"
    }
   ],
   "source": [
    "pdf_path"
   ]
  },
  {
   "cell_type": "markdown",
   "id": "dd5883a4",
   "metadata": {},
   "source": [
    "## Converting into Table and Saving in Excel "
   ]
  },
  {
   "cell_type": "code",
   "execution_count": 12,
   "id": "ddeaf3f8",
   "metadata": {},
   "outputs": [
    {
     "name": "stdout",
     "output_type": "stream",
     "text": [
      "Table # 0 has 8 rows and 4 columns\n",
      "...Cell[0][0] has content 'DESCRIPTION'\n",
      "...Cell[0][1] has content 'QTY'\n",
      "...Cell[0][2] has content 'UNIT PRICE'\n",
      "...Cell[0][3] has content 'AMOUNT'\n",
      "...Cell[1][0] has content 'Service Fee'\n",
      "...Cell[1][1] has content '1'\n",
      "...Cell[1][2] has content '200.00'\n",
      "...Cell[1][3] has content '200.00'\n",
      "...Cell[2][0] has content 'Labor: 5 hours at $75/hr'\n",
      "...Cell[2][1] has content '5'\n",
      "...Cell[2][2] has content '75.00'\n",
      "...Cell[2][3] has content '375.00'\n",
      "...Cell[3][0] has content 'New client discount'\n",
      "...Cell[3][1] has content ''\n",
      "...Cell[3][2] has content '(50.00)'\n",
      "...Cell[3][3] has content '(50.00)'\n",
      "...Cell[4][0] has content ''\n",
      "...Cell[4][1] has content ''\n",
      "...Cell[4][2] has content ''\n",
      "...Cell[4][3] has content ''\n",
      "...Cell[5][0] has content ''\n",
      "...Cell[5][1] has content ''\n",
      "...Cell[5][2] has content ''\n",
      "...Cell[5][3] has content ''\n",
      "...Cell[6][0] has content ''\n",
      "...Cell[6][1] has content ''\n",
      "...Cell[6][2] has content ''\n",
      "...Cell[6][3] has content ''\n",
      "...Cell[7][0] has content ''\n",
      "...Cell[7][1] has content ''\n",
      "...Cell[7][2] has content ''\n",
      "...Cell[7][3] has content ''\n",
      "Table # 1 has 2 rows and 2 columns\n",
      "...Cell[0][0] has content 'INVOICE #'\n",
      "...Cell[0][1] has content 'DATE'\n",
      "...Cell[1][0] has content '2034'\n",
      "...Cell[1][1] has content '2/21/2018'\n",
      "----------------------------------------\n"
     ]
    }
   ],
   "source": [
    "pdf_file_name = os.path.basename(pdf_path)\n",
    "# os.makedirs(pdf_file_name)\n",
    "df_dict = {}\n",
    "for table_idx, table in enumerate(result.tables):\n",
    "    print(\n",
    "        \"Table # {} has {} rows and {} columns\".format(\n",
    "        table_idx, table.row_count, table.column_count\n",
    "        )\n",
    "    )\n",
    "    df = pd.DataFrame(index=np.arange(table.row_count), columns=np.arange(table.column_count))\n",
    "        \n",
    "    for cell in table.cells:\n",
    "        df.iloc[cell.row_index,cell.column_index] = cell.content\n",
    "        print(\n",
    "            \"...Cell[{}][{}] has content '{}'\".format(\n",
    "            cell.row_index,\n",
    "            cell.column_index,\n",
    "            cell.content,\n",
    "            )\n",
    "        )\n",
    "    df_dict[\"Table_No.\"+str(table_idx+1)] = df    \n",
    "    \n",
    "#     df.to_csv(f'{pdf_file_name}\\Table_Page_No.{table_idx+1}.txt', index=False,header=None, sep = \" \")    \n",
    "\n",
    "print(\"----------------------------------------\")"
   ]
  },
  {
   "cell_type": "code",
   "execution_count": 13,
   "id": "6505640a",
   "metadata": {},
   "outputs": [],
   "source": [
    "from pandas import ExcelWriter\n",
    "def save_xls(dict_df, path):\n",
    "    writer = ExcelWriter(path)\n",
    "    for key in dict_df:\n",
    "        dict_df[key].to_excel(writer, key, index=False, header=False)\n",
    "    writer.save()    "
   ]
  },
  {
   "cell_type": "code",
   "execution_count": 14,
   "id": "ef986a1b",
   "metadata": {},
   "outputs": [],
   "source": [
    "save_xls(df_dict,f\"./{pdf_file_name}.xlsx\")"
   ]
  },
  {
   "cell_type": "markdown",
   "id": "af46fb8d",
   "metadata": {},
   "source": [
    "# CUSTOM MODEL\n"
   ]
  },
  {
   "cell_type": "code",
   "execution_count": null,
   "id": "4e23066a",
   "metadata": {},
   "outputs": [],
   "source": [
    "# import module\n",
    "from pdf2image import convert_from_path, convert_from_bytes\n",
    "pdf_path = r\"C:\\Users\\6130674\\OneDrive - Fidelity National Financial\\Documents\\New_Project\\Annotation\\WF\\1.WF-7778 03-28 NORMAL.pdf\"\n",
    "images = convert_from_bytes(open(pdf_path, \"rb\").read())\n",
    "os.makedirs(pdf_path+\"_images\",exist_ok=True)\n",
    "for i, image in enumerate(images):\n",
    "    \n",
    "    image.save(f'{pdf_path}_images/image_{i}.jpg', 'JPEG')\n",
    "    #pages[i].save('page'+ str(i) +'.jpg', 'JPEG')\n",
    "#formUrl = \"https://raw.githubusercontent.com/Azure-Samples/cognitive-services-REST-api-samples/master/curl/form-recognizer/sample-layout.pdf\"\n"
   ]
  },
  {
   "cell_type": "code",
   "execution_count": null,
   "id": "24fab9cb",
   "metadata": {},
   "outputs": [],
   "source": [
    "import glob\n",
    "list_images = [file for file in glob.glob(f'{pdf_path}_images/*.jpg')]"
   ]
  },
  {
   "cell_type": "code",
   "execution_count": 2,
   "id": "2ac2c582",
   "metadata": {},
   "outputs": [
    {
     "name": "stdout",
     "output_type": "stream",
     "text": [
      "defaultdict(<class 'list'>, {'LenderName': ['CHASE O'], 'PayoffStatement': ['This payoff quote is good through 03/04/2022 at 6 p.m. Eastern Time. For more information about paying off your mortgage, please visit chase.com/payoff. Principal Balance: Interest from 02/01/2022 to 03/04/2022: Recording Cost :* $297,243.82 $735.73 $100.00'], 'PageNumber': ['Page 3 of 7'], 'LoanNumber': ['1434081105'], 'WiringStatement': [\"Wire Transfer (fastest option) To process it the same day, we need the full payoff amount by 6 p.m. Eastern Time. Include the following information with your wire transfer: JPMorgan Chase Bank, N.A. Account number: 323553729 Routing number: 021000021 Account name: Chase Payoff Wire Account OBI text: 1434081105 Attn: Payoff Processing Your name Your property address Your closing agent's contact information\"], 'TotalDueAmount': ['Total Amount Due: $298,079.55'], 'Mortagagor': ['Robert P. Zvara'], 'CoMortagagor': ['Zvara#Nicole#R'], 'PropertyAddress': ['255 Hazelton Court Morgan Hill, CA 95037-0000']})\n"
     ]
    }
   ],
   "source": [
    "\"\"\"\n",
    "This code sample shows Custom Model operations with the Azure Form Recognizer client library. \n",
    "The async versions of the samples require Python 3.6 or later.\n",
    "`\n",
    "To learn more, please visit the documentation - Quickstart: Form Recognizer Python client library SDKs v3.0\n",
    "https://docs.microsoft.com/en-us/azure/applied-ai-services/form-recognizer/quickstarts/try-v3-python-sdk\n",
    "\"\"\"\n",
    "\n",
    "from azure.core.credentials import AzureKeyCredential\n",
    "from azure.ai.formrecognizer import DocumentAnalysisClient,DocumentField\n",
    "from collections import defaultdict\n",
    "endpoint = \"https://eastus2.api.cognitive.microsoft.com/\"\n",
    "key = \"132d0d0fb8474520a464887a31f356dc\"\n",
    "# model_id = \"Compose_model_12_may_2022\"\n",
    "model_id = \"Mrcooper_Chase_Neural_Compose\"\n",
    "\n",
    "document_analysis_client = DocumentAnalysisClient(\n",
    "    endpoint=endpoint, credential=AzureKeyCredential(key)\n",
    ")\n",
    "# DocumentField()\n",
    "\n",
    "pdf_path = r\"C:\\Users\\6130674\\OneDrive - Fidelity National Financial\\Documents\\New_Project\\2 CHASE\\2 CHASE\\23. Chase 1105 2_2.pdf\"\n",
    "\n",
    "with open(pdf_path, \"rb\") as fd:\n",
    "    document = fd.read()\n",
    "# for image in list_images:\n",
    "#     with open(image, \"rb\") as fd:\n",
    "#         im = fd.read()\n",
    "poller = document_analysis_client.begin_analyze_document(model=model_id, document=document)\n",
    "result = poller.result()\n",
    "\n",
    "\n",
    "\n",
    "results_dict= defaultdict(list)\n",
    "for idx, document in enumerate(result.documents):\n",
    "        for name, field in document.fields.items():\n",
    "\n",
    "            field_value = field.value if field.value else field.content\n",
    "            #print(\"......found Key Name '{}' with value '{}' and with confidence {}\".format(name, field_value, field.confidence))\n",
    "            \n",
    "            results_dict[name].append(field_value)\n",
    "#             results_dict[name].append(field.confidence)\n",
    "\n",
    "print(results_dict)            \n",
    "    # # Make sure your document's type is included in the list of document types the custom model can analyze\n",
    "    # poller = document_analysis_client.begin_analyze_document_from_url(model_id, formUrl)\n",
    "    # result = poller.result()\n",
    "\n",
    "    # for idx, document in enumerate(result.documents):\n",
    "    #     print(\"--------Analyzing document #{}--------\".format(idx + 1))\n",
    "    #     print(\"Document has type {}\".format(document.doc_type))\n",
    "    #     print(\"Document has confidence {}\".format(document.confidence))\n",
    "    #     print(\"Document was analyzed by model with ID {}\".format(result.model_id))\n",
    "    #     for name, field in document.fields.items():\n",
    "    #         field_value = field.value if field.value else field.content\n",
    "    #         print(\"......found field of type '{}' with value '{}' and with confidence {}\".format(field.value_type, field_value, field.confidence))\n",
    "\n",
    "\n",
    "#     # iterate over tables, lines, and selection marks on each page\n",
    "#     for page in result.pages:\n",
    "#         print(\"\\nLines found on page {}\".format(page.page_number))\n",
    "#         for line in page.lines:\n",
    "#             print(\"...Line '{}'\".format(line.content.encode('utf-8')))\n",
    "#         for word in page.words:\n",
    "#             print(\n",
    "#                 \"...Word '{}' has a confidence of {}\".format(\n",
    "#                     word.content.encode('utf-8'), word.confidence\n",
    "#                 )\n",
    "#             )\n",
    "#         for selection_mark in page.selection_marks:\n",
    "#             print(\n",
    "#                 \"...Selection mark is '{}' and has a confidence of {}\".format(\n",
    "#                     selection_mark.state, selection_mark.confidence\n",
    "#                 )\n",
    "#             )\n",
    "\n",
    "# # for i, table in enumerate(result.tables):\n",
    "#     print(\"\\nTable {} can be found on page:\".format(i + 1))\n",
    "#     for region in table.bounding_regions:\n",
    "#         print(\"...{}\".format(i + 1, region.page_number))\n",
    "#     for cell in table.cells:\n",
    "#         print(\n",
    "#             \"...Cell[{}][{}] has content '{}'\".format(\n",
    "#                 cell.row_index, cell.column_index, cell.content.encode('utf-8')\n",
    "#             )\n",
    "#         )\n",
    "# print(\"-----------------------------------\")\n"
   ]
  },
  {
   "cell_type": "code",
   "execution_count": null,
   "id": "59b08531",
   "metadata": {},
   "outputs": [],
   "source": [
    "import os"
   ]
  },
  {
   "cell_type": "code",
   "execution_count": null,
   "id": "86883529",
   "metadata": {},
   "outputs": [],
   "source": [
    "def efax_pdf_to_text(directory_of_pdfs):\n",
    "    for pdf_file in glob.glob(os.path.join(directory_of_pdfs,\"*.pdf\")):\n",
    "        pdf_file_name = os.path.basename(pdf_file)  \n",
    "        print(pdf_file_name)"
   ]
  },
  {
   "cell_type": "code",
   "execution_count": null,
   "id": "fa3d9adf",
   "metadata": {},
   "outputs": [],
   "source": [
    "efax_pdf_to_text(r\"C:\\Users\\6130674\\OneDrive - Fidelity National Financial\\Documents\\New_Project\\Annotation\\WF\")"
   ]
  },
  {
   "cell_type": "code",
   "execution_count": null,
   "id": "99a427c8",
   "metadata": {},
   "outputs": [],
   "source": [
    "from tqdm import tqdm_notebook"
   ]
  },
  {
   "cell_type": "code",
   "execution_count": null,
   "id": "956701c2",
   "metadata": {},
   "outputs": [],
   "source": [
    "endpoint = \"https://eastus2.api.cognitive.microsoft.com/\"\n",
    "key = \"946e5a8d6ca3400eb0b1c0398b92105c\"\n",
    "model_id = \"Neural_Net_Model_Batch_2_19_May\""
   ]
  },
  {
   "cell_type": "code",
   "execution_count": null,
   "id": "2caadfd4",
   "metadata": {},
   "outputs": [],
   "source": [
    "from azure.core.credentials import AzureKeyCredential\n",
    "from azure.ai.formrecognizer import DocumentAnalysisClient,DocumentField\n",
    "from collections import defaultdict\n",
    "import glob\n",
    "import os\n",
    "endpoint = \"https://eastus2.api.cognitive.microsoft.com/\"\n",
    "key = \"9e12a42689cb4afd996ed992fb1f07d7\"\n",
    "model_id = \"Neural_Net_Model_Batch_3_19_May\"\n",
    "\n",
    "document_analysis_client = DocumentAnalysisClient(\n",
    "    endpoint=endpoint, credential=AzureKeyCredential(key)\n",
    ")\n",
    "# DocumentField()\n",
    "\n",
    "def efax_pdf_to_text(directory_of_pdfs):\n",
    "    final_information = {}\n",
    "\n",
    "    for pdf_file in tqdm_notebook(glob.glob(os.path.join(directory_of_pdfs,\"*.pdf\"))):\n",
    "        pdf_file_name = os.path.basename(pdf_file)\n",
    "        print(pdf_file_name)\n",
    "\n",
    "        with open(pdf_file, \"rb\") as fd:\n",
    "            document = fd.read()\n",
    "        poller = document_analysis_client.begin_analyze_document(model=model_id, document=document)\n",
    "        result = poller.result()\n",
    "        results_dict= defaultdict(list)\n",
    "        no_text_fields = ['TotalOutstandingAmount','WiringStatements','PayoffStatement']\n",
    "#         for idx, document in enumerate(result.documents):\n",
    "#                 for name, field in document.fields.items():\n",
    "\n",
    "#                     field_value = field.value if field.value else field.content\n",
    "\n",
    "#                     if name in no_text_fields:\n",
    "#                         if len(field_value)>0:\n",
    "#                             results_dict[name].append(\"True\")\n",
    "#                         else:\n",
    "#                             results_dict[name].append(\"False\")\n",
    "#                     else:\n",
    "#                         results_dict[name].append(field_value)\n",
    "        for idx, document in enumerate(result.documents):\n",
    "            for name, field in document.fields.items():\n",
    "\n",
    "                field_value = field.value if field.value else field.content\n",
    "                #print(\"......found Key Name '{}' with value '{}' and with confidence {}\".format(name, field_value, field.confidence))\n",
    "\n",
    "                results_dict[name].append(field_value)\n",
    "                results_dict[name+\"_Confidence\"].append(field.confidence)\n",
    "        final_information[pdf_file_name] = results_dict\n",
    "    \n",
    "    return final_information"
   ]
  },
  {
   "cell_type": "code",
   "execution_count": null,
   "id": "2c8d0184",
   "metadata": {},
   "outputs": [],
   "source": [
    "data_1= efax_pdf_to_text(r\"C:\\Users\\6130674\\OneDrive - Fidelity National Financial\\Documents\\New_Project\\batch_1\")"
   ]
  },
  {
   "cell_type": "code",
   "execution_count": null,
   "id": "3db27429",
   "metadata": {},
   "outputs": [],
   "source": [
    "data_2 = efax_pdf_to_text(r\"C:\\Users\\6130674\\OneDrive - Fidelity National Financial\\Documents\\New_Project\\batch_2_P2\")"
   ]
  },
  {
   "cell_type": "code",
   "execution_count": null,
   "id": "8e3b7baa",
   "metadata": {},
   "outputs": [],
   "source": [
    "data_2_1 = efax_pdf_to_text(r\"C:\\Users\\6130674\\OneDrive - Fidelity National Financial\\Documents\\New_Project\\batch_2_P1\")"
   ]
  },
  {
   "cell_type": "code",
   "execution_count": null,
   "id": "630ed043",
   "metadata": {
    "scrolled": true
   },
   "outputs": [],
   "source": [
    "data_3_2 = efax_pdf_to_text(r\"C:\\Users\\6130674\\OneDrive - Fidelity National Financial\\Documents\\New_Project\\batch_3_P2\")"
   ]
  },
  {
   "cell_type": "code",
   "execution_count": null,
   "id": "179d1cb9",
   "metadata": {},
   "outputs": [],
   "source": [
    "def convert_data_to_dataframe(json_data):\n",
    "    data_frame = pd.concat({k: pd.DataFrame(v) for k, v in json_data.items()}, axis=0)\n",
    "    data_frame = data_frame.reset_index().drop([\"level_1\"], axis=1).rename({\"level_0\":\"Filename\"}, axis=1)\n",
    "    first_column = data_frame.pop('Filename')\n",
    "    data_frame.insert(0, 'Filename', first_column)\n",
    "    return data_frame"
   ]
  },
  {
   "cell_type": "code",
   "execution_count": null,
   "id": "932c61fe",
   "metadata": {},
   "outputs": [],
   "source": [
    "def save_to_json(data):\n",
    "    import json\n",
    "\n",
    "    with open(r'C:\\Users\\6130674\\OneDrive - Fidelity National Financial\\Documents\\New_Project\\batch_3_P2\\data.json', 'w') as fp:\n",
    "        json.dump(data, fp)"
   ]
  },
  {
   "cell_type": "code",
   "execution_count": null,
   "id": "df952e92",
   "metadata": {},
   "outputs": [],
   "source": [
    "save_to_json(data_3_2)"
   ]
  },
  {
   "cell_type": "code",
   "execution_count": null,
   "id": "597ec661",
   "metadata": {},
   "outputs": [],
   "source": [
    "import pandas as pd"
   ]
  },
  {
   "cell_type": "code",
   "execution_count": null,
   "id": "6693251c",
   "metadata": {},
   "outputs": [],
   "source": [
    "dataframe = convert_data_to_dataframe(data_1)"
   ]
  },
  {
   "cell_type": "code",
   "execution_count": null,
   "id": "894a3195",
   "metadata": {},
   "outputs": [],
   "source": [
    "dataframe_2_1 = convert_data_to_dataframe(data_2)"
   ]
  },
  {
   "cell_type": "code",
   "execution_count": null,
   "id": "a2b0b34e",
   "metadata": {},
   "outputs": [],
   "source": [
    "dataframe_2_2 = convert_data_to_dataframe(data_2_1)"
   ]
  },
  {
   "cell_type": "code",
   "execution_count": null,
   "id": "d0e40981",
   "metadata": {},
   "outputs": [],
   "source": [
    "dataframe_3_1 = convert_data_to_dataframe(data_3_1)"
   ]
  },
  {
   "cell_type": "code",
   "execution_count": null,
   "id": "b9cdb542",
   "metadata": {},
   "outputs": [],
   "source": [
    "dataframe_3_2 = convert_data_to_dataframe(data_3_2)"
   ]
  },
  {
   "cell_type": "code",
   "execution_count": null,
   "id": "5a790272",
   "metadata": {},
   "outputs": [],
   "source": [
    "combined_dataframe = pd.concat([dataframe,dataframe_2_1,dataframe_2_2, dataframe_3_1,dataframe_3_2])"
   ]
  },
  {
   "cell_type": "code",
   "execution_count": null,
   "id": "564381ed",
   "metadata": {},
   "outputs": [],
   "source": [
    "combined_dataframe[\"PageNumber\"] = combined_dataframe[\"PageNumber\"].str.findall(r'\\d+').str[-1]"
   ]
  },
  {
   "cell_type": "code",
   "execution_count": null,
   "id": "633db9fc",
   "metadata": {},
   "outputs": [],
   "source": [
    "pd.set_option('display.max_rows', 500)"
   ]
  },
  {
   "cell_type": "code",
   "execution_count": null,
   "id": "9e360a17",
   "metadata": {},
   "outputs": [],
   "source": [
    "combined_dataframe.rename({\"PageNumber\":\"TotalPages\", \"PageNumber_Confidence\":\"TotalPages_Confidence\"},inplace=True)"
   ]
  },
  {
   "cell_type": "code",
   "execution_count": null,
   "id": "ad4725bf",
   "metadata": {},
   "outputs": [],
   "source": [
    "combined_dataframe.sort_values(\"Filename\",inplace=True)"
   ]
  },
  {
   "cell_type": "code",
   "execution_count": null,
   "id": "196c5b93",
   "metadata": {},
   "outputs": [],
   "source": [
    "combined_dataframe.shape"
   ]
  },
  {
   "cell_type": "code",
   "execution_count": null,
   "id": "60fb9ea0",
   "metadata": {},
   "outputs": [],
   "source": [
    "old_data = pd.read_excel(\"eFax_Neural_Net_Compose_model_output_final_output.xlsx\")"
   ]
  },
  {
   "cell_type": "code",
   "execution_count": null,
   "id": "44dab169",
   "metadata": {},
   "outputs": [],
   "source": [
    "data_11=pd.read_excel(\"eFax_Neural_Net_Compose_model_output_Batch_1.xlsx\")\n",
    "data_12 = pd.read_excel(\"eFax_Neural_Net_Compose_model_output_Batch_2.xlsx\")\n",
    "data_13= pd.read_excel(\"eFax_Neural_Net_Compose_model_output_Batch_3.xlsx\")"
   ]
  },
  {
   "cell_type": "code",
   "execution_count": null,
   "id": "584400cd",
   "metadata": {},
   "outputs": [],
   "source": [
    "first_iteration_combined = pd.concat([data_11,data_12,data_13])"
   ]
  },
  {
   "cell_type": "code",
   "execution_count": null,
   "id": "c58053bd",
   "metadata": {},
   "outputs": [],
   "source": [
    "final_data = pd.concat([first_iteration_combined,combined_dataframe])"
   ]
  },
  {
   "cell_type": "code",
   "execution_count": null,
   "id": "e224f27c",
   "metadata": {},
   "outputs": [],
   "source": []
  },
  {
   "cell_type": "code",
   "execution_count": null,
   "id": "19eea8aa",
   "metadata": {},
   "outputs": [],
   "source": []
  },
  {
   "cell_type": "code",
   "execution_count": null,
   "id": "ad5295fb",
   "metadata": {},
   "outputs": [],
   "source": [
    "final_data.sort_values(\"Filename\",inplace=True)"
   ]
  },
  {
   "cell_type": "code",
   "execution_count": null,
   "id": "1552a53d",
   "metadata": {},
   "outputs": [],
   "source": [
    "final_data.to_excel(\"eFax_Neural_Net_Compose_model_output_final_output_.xlsx\", index=False)"
   ]
  }
 ],
 "metadata": {
  "kernelspec": {
   "display_name": "Python 3",
   "language": "python",
   "name": "python3"
  },
  "language_info": {
   "codemirror_mode": {
    "name": "ipython",
    "version": 3
   },
   "file_extension": ".py",
   "mimetype": "text/x-python",
   "name": "python",
   "nbconvert_exporter": "python",
   "pygments_lexer": "ipython3",
   "version": "3.8.8"
  }
 },
 "nbformat": 4,
 "nbformat_minor": 5
}
